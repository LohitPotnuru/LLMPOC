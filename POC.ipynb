{
 "cells": [
  {
   "cell_type": "code",
   "execution_count": 72,
   "id": "f33b5e44-9458-4a67-be6d-dd7e6d83242b",
   "metadata": {},
   "outputs": [],
   "source": [
    "import pandas as pd\n",
    "import openai\n",
    "API_KEY = \"YOUR_API_KEY\"\n",
    "client = openai.OpenAI( api_key = API_KEY )\n",
    "DATA_PATH = \"Data/\""
   ]
  },
  {
   "cell_type": "code",
   "execution_count": 73,
   "id": "91d936f4-3644-4562-9760-7c81224705d1",
   "metadata": {},
   "outputs": [],
   "source": [
    "agreement_data = pd.read_csv(DATA_PATH + \"Agreement.csv\")\n",
    "billing_data = pd.read_csv( DATA_PATH + \"Billing.csv\")\n",
    "customer_data = pd.read_csv( DATA_PATH + \"Customer.csv\")\n",
    "unit_data = pd.read_csv( DATA_PATH + \"Unit.csv\")"
   ]
  },
  {
   "cell_type": "code",
   "execution_count": 74,
   "id": "c0cd53f4-ed9a-4378-9c4e-f2cb50d364a9",
   "metadata": {},
   "outputs": [],
   "source": [
    "data_descriptions = '''The following information contains descriptions of the type of data stored in each dataset provided below. \"Customer Data\" contains\n",
    "basic information about each customer including their unique customer id, their name, their email, and their phone number. \"Agreement Data\" \n",
    "contains the record of all agreements made with the company, including the id of the customer, the unique number id of the agreement, the date of\n",
    "when the agreement was made, and the original unit price (subject to change in the future) when the agreement was made. \"Unit Data\" contains \n",
    "data on the number of units being sold to customers, containing the unique agreement number, the month, and the numbner of units sold to that\n",
    "customer that month. \"Billing Data\" contains billing data for each customer and each agreement for that customer, where each row contains the \n",
    "customer id, the agreement number, the month and year the customer was billed, the number of units they were billed for, the price per unit\n",
    "they were billed at for that month, and the final invoice, calculated by number of units times the unit price. Units that weren't invoiced carry on to the next month'''"
   ]
  },
  {
   "cell_type": "code",
   "execution_count": 75,
   "id": "6d47e2d0-00d4-4536-9fb0-231efd3e0c61",
   "metadata": {},
   "outputs": [],
   "source": [
    "string_data = \"Customer Data:\\n\" + customer_data.to_string() + \"\\nAgreement Data:\\n\" + agreement_data.to_string() + \"\\nUnit Data:\\n\" + unit_data.to_string() + \"\\nBilling Data:\\n\" + billing_data.to_string()"
   ]
  },
  {
   "cell_type": "code",
   "execution_count": 76,
   "id": "1abc624e-fe67-484d-a7d4-028123435ff6",
   "metadata": {},
   "outputs": [],
   "source": [
    "response = client.chat.completions.create(\n",
    "  model=\"gpt-3.5-turbo\",\n",
    "  messages=[\n",
    "    {\"role\": \"system\", \"content\": data_descriptions + string_data},\n",
    "    {\"role\": \"user\", \"content\": \"Customer C004 is asking 'I did not recieve any billing for March, April, May and June but recieved in July. Will you please give me a monthly breakdown of my invoice?' Which dataset would be most appropriate to answer this question?\"}\n",
    "  ]\n",
    ")"
   ]
  },
  {
   "cell_type": "code",
   "execution_count": 77,
   "id": "69363ab8-5962-465d-b7ab-699a8f01716b",
   "metadata": {},
   "outputs": [
    {
     "data": {
      "text/plain": [
       "'The \"Billing Data\" dataset would be the most appropriate dataset to answer the customer\\'s question regarding their billing for the months of March, April, May, and June. This dataset contains detailed information on the billing for each customer, including the agreement number, the billing month, the unit count, the unit rate, and the invoice amount. By looking at the billing data for Customer C004 from March to June, we can provide a breakdown of their monthly invoices and identify any missing or incomplete billing entries for those months.'"
      ]
     },
     "execution_count": 77,
     "metadata": {},
     "output_type": "execute_result"
    }
   ],
   "source": [
    "response.choices[0].message.content"
   ]
  },
  {
   "cell_type": "code",
   "execution_count": 78,
   "id": "b84fe9f6-e52e-4de1-8a2e-478f15215c1e",
   "metadata": {},
   "outputs": [],
   "source": [
    "response = client.chat.completions.create(\n",
    "  model=\"gpt-4-turbo\",\n",
    "  messages=[\n",
    "    {\"role\": \"system\", \"content\": data_descriptions + string_data},\n",
    "    {\"role\": \"user\", \"content\": \"Customer C004 is asking 'I did not recieve any billing for March, April, May and June but recieved in July. Will you please give me a monthly breakdown of my invoice?' Using the billing dataset, select and output all the rows that one would need to examine to answer this specific question for this specific customer id. Be sure to include data that could be used to gain context for the situation\"}\n",
    "  ]\n",
    ")"
   ]
  },
  {
   "cell_type": "code",
   "execution_count": null,
   "id": "8f8072c5-1f7b-4e0c-aa0b-a0f0f4f0266d",
   "metadata": {},
   "outputs": [],
   "source": [
    "response.choices[0].message.content"
   ]
  },
  {
   "cell_type": "code",
   "execution_count": 70,
   "id": "6c1a11f4-73ed-4001-a639-505d04dcf3bb",
   "metadata": {},
   "outputs": [],
   "source": [
    "response = client.chat.completions.create(\n",
    "  model=\"gpt-4-turbo\",\n",
    "  messages=[\n",
    "    {\"role\": \"system\", \"content\": data_descriptions + string_data},\n",
    "    {\"role\": \"user\", \"content\": \"Customer C004 is asking 'I did not recieve any billing for March, April, May and June but recieved in July. Will you please give me a monthly breakdown of my invoice?' Using the billing data for customer C002, answer this specific question for this specific customer.\"}\n",
    "  ]\n",
    ")"
   ]
  },
  {
   "cell_type": "code",
   "execution_count": null,
   "id": "8f1872c9-9af9-4c49-a92d-d066ea2e4a47",
   "metadata": {},
   "outputs": [],
   "source": [
    "response.choices[0].message.content"
   ]
  },
  {
   "cell_type": "code",
   "execution_count": null,
   "id": "1bfe93dd-01d4-42ee-b24a-7fd2fdcb8e6c",
   "metadata": {},
   "outputs": [],
   "source": []
  }
 ],
 "metadata": {
  "kernelspec": {
   "display_name": "Python 3 (ipykernel)",
   "language": "python",
   "name": "python3"
  },
  "language_info": {
   "codemirror_mode": {
    "name": "ipython",
    "version": 3
   },
   "file_extension": ".py",
   "mimetype": "text/x-python",
   "name": "python",
   "nbconvert_exporter": "python",
   "pygments_lexer": "ipython3",
   "version": "3.11.9"
  }
 },
 "nbformat": 4,
 "nbformat_minor": 5
}
